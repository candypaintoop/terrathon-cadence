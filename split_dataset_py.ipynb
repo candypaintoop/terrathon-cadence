{
  "nbformat": 4,
  "nbformat_minor": 0,
  "metadata": {
    "colab": {
      "provenance": []
    },
    "kernelspec": {
      "name": "python3",
      "display_name": "Python 3"
    },
    "language_info": {
      "name": "python"
    }
  },
  "cells": [
    {
      "cell_type": "code",
      "execution_count": null,
      "metadata": {
        "colab": {
          "base_uri": "https://localhost:8080/"
        },
        "id": "aNVbZaVzzP75",
        "outputId": "29064c93-da7c-4232-f08c-fff0f1caf10e"
      },
      "outputs": [
        {
          "output_type": "stream",
          "name": "stdout",
          "text": [
            "Loaded dataset shape: (150, 9)\n",
            "   greywater_usage_liters  co2_levels_ppm  humidity_percentage  \\\n",
            "0                     202             361                   47   \n",
            "1                     535             515                   76   \n",
            "2                     960             592                   44   \n",
            "3                     370             398                   69   \n",
            "4                     206             471                   42   \n",
            "\n",
            "   temperature_celsius  sunlight_hours_average  building_surface_area_sqm  \\\n",
            "0                   19                     8.9                         74   \n",
            "1                   11                     4.9                         27   \n",
            "2                   26                     5.5                         58   \n",
            "3                   17                     4.9                         20   \n",
            "4                   10                     6.4                         94   \n",
            "\n",
            "   wind_speed_kmh   algae_type     wall_design  \n",
            "0            12.4  Scenedesmus  Vertical Tower  \n",
            "1            14.7   Dunaliella         Tubular  \n",
            "2            17.4   Dunaliella  Vertical Tower  \n",
            "3            12.4   Dunaliella      Flat Panel  \n",
            "4            14.3  Scenedesmus  Vertical Tower  \n"
          ]
        }
      ],
      "source": [
        "import pandas as pd\n",
        "\n",
        "# 1) Load the big dataset\n",
        "df = pd.read_csv(\"EcoSphereAI_dataset_150.csv\")\n",
        "\n",
        "print(\"Loaded dataset shape:\", df.shape)\n",
        "print(df.head(5))\n"
      ]
    },
    {
      "cell_type": "code",
      "source": [
        "# 2) Columns for input\n",
        "input_columns = [\n",
        "    \"greywater_usage_liters\",\n",
        "    \"co2_levels_ppm\",\n",
        "    \"humidity_percentage\",\n",
        "    \"temperature_celsius\",\n",
        "    \"sunlight_hours_average\",\n",
        "    \"building_surface_area_sqm\",\n",
        "    \"wind_speed_kmh\"\n",
        "]\n",
        "\n",
        "# 3) Dataset 1: Predict 'wall_design'\n",
        "wall_design_df = df[input_columns + [\"wall_design\"]]\n",
        "\n",
        "# 4) Dataset 2: Predict 'algae_type'\n",
        "algae_type_df = df[input_columns + [\"algae_type\"]]\n",
        "\n",
        "print(\"Wall design dataset shape:\", wall_design_df.shape)\n",
        "print(\"Algae type dataset shape:\", algae_type_df.shape)\n",
        "\n",
        "# 5) Save them to new CSV files\n",
        "wall_design_df.to_csv(\"WallDesign_data.csv\", index=False)\n",
        "algae_type_df.to_csv(\"AlgaeType_data.csv\", index=False)\n",
        "\n",
        "print(\"✅ Split into 'WallDesign_data.csv' and 'AlgaeType_data.csv' successfully!\")\n"
      ],
      "metadata": {
        "colab": {
          "base_uri": "https://localhost:8080/"
        },
        "id": "6SYB9ZzH0yIt",
        "outputId": "96eb938e-2ff4-4790-8a36-6f0af63a148f"
      },
      "execution_count": null,
      "outputs": [
        {
          "output_type": "stream",
          "name": "stdout",
          "text": [
            "Wall design dataset shape: (150, 8)\n",
            "Algae type dataset shape: (150, 8)\n",
            "✅ Split into 'WallDesign_data.csv' and 'AlgaeType_data.csv' successfully!\n"
          ]
        }
      ]
    },
    {
      "cell_type": "code",
      "source": [
        "import pandas as pd\n",
        "from sklearn.model_selection import train_test_split\n",
        "from sklearn.ensemble import RandomForestClassifier\n",
        "import joblib\n",
        "\n",
        "df_wall = pd.read_csv(\"WallDesign_data.csv\")\n",
        "print(df_wall.head())\n"
      ],
      "metadata": {
        "colab": {
          "base_uri": "https://localhost:8080/"
        },
        "id": "TR6YJ_ji0zWV",
        "outputId": "cb17fbba-ce63-400e-bc8c-5d553205d48a"
      },
      "execution_count": null,
      "outputs": [
        {
          "output_type": "stream",
          "name": "stdout",
          "text": [
            "   greywater_usage_liters  co2_levels_ppm  humidity_percentage  \\\n",
            "0                     202             361                   47   \n",
            "1                     535             515                   76   \n",
            "2                     960             592                   44   \n",
            "3                     370             398                   69   \n",
            "4                     206             471                   42   \n",
            "\n",
            "   temperature_celsius  sunlight_hours_average  building_surface_area_sqm  \\\n",
            "0                   19                     8.9                         74   \n",
            "1                   11                     4.9                         27   \n",
            "2                   26                     5.5                         58   \n",
            "3                   17                     4.9                         20   \n",
            "4                   10                     6.4                         94   \n",
            "\n",
            "   wind_speed_kmh     wall_design  \n",
            "0            12.4  Vertical Tower  \n",
            "1            14.7         Tubular  \n",
            "2            17.4  Vertical Tower  \n",
            "3            12.4      Flat Panel  \n",
            "4            14.3  Vertical Tower  \n"
          ]
        }
      ]
    },
    {
      "cell_type": "code",
      "source": [
        "X = df_wall.drop(\"wall_design\", axis=1)  # all input columns\n",
        "y = df_wall[\"wall_design\"]              # target is wall_design\n"
      ],
      "metadata": {
        "id": "soo5gffT4FtM"
      },
      "execution_count": null,
      "outputs": []
    },
    {
      "cell_type": "code",
      "source": [
        "import pandas as pd\n",
        "\n",
        "# 1) Load the wall design dataset\n",
        "wall_df = pd.read_csv(\"WallDesign_data.csv\")\n",
        "print(\"Wall Design Dataset:\", wall_df.shape)\n",
        "print(wall_df.head())\n",
        "\n",
        "# 2) Load the algae type dataset\n",
        "algae_df = pd.read_csv(\"AlgaeType_data.csv\")\n",
        "print(\"Algae Type Dataset:\", algae_df.shape)\n",
        "print(algae_df.head())\n"
      ],
      "metadata": {
        "colab": {
          "base_uri": "https://localhost:8080/"
        },
        "id": "7G6HXKmq4Lx9",
        "outputId": "c761f120-8772-4889-a863-cf1065186385"
      },
      "execution_count": null,
      "outputs": [
        {
          "output_type": "stream",
          "name": "stdout",
          "text": [
            "Wall Design Dataset: (150, 8)\n",
            "   greywater_usage_liters  co2_levels_ppm  humidity_percentage  \\\n",
            "0                     202             361                   47   \n",
            "1                     535             515                   76   \n",
            "2                     960             592                   44   \n",
            "3                     370             398                   69   \n",
            "4                     206             471                   42   \n",
            "\n",
            "   temperature_celsius  sunlight_hours_average  building_surface_area_sqm  \\\n",
            "0                   19                     8.9                         74   \n",
            "1                   11                     4.9                         27   \n",
            "2                   26                     5.5                         58   \n",
            "3                   17                     4.9                         20   \n",
            "4                   10                     6.4                         94   \n",
            "\n",
            "   wind_speed_kmh     wall_design  \n",
            "0            12.4  Vertical Tower  \n",
            "1            14.7         Tubular  \n",
            "2            17.4  Vertical Tower  \n",
            "3            12.4      Flat Panel  \n",
            "4            14.3  Vertical Tower  \n",
            "Algae Type Dataset: (150, 8)\n",
            "   greywater_usage_liters  co2_levels_ppm  humidity_percentage  \\\n",
            "0                     202             361                   47   \n",
            "1                     535             515                   76   \n",
            "2                     960             592                   44   \n",
            "3                     370             398                   69   \n",
            "4                     206             471                   42   \n",
            "\n",
            "   temperature_celsius  sunlight_hours_average  building_surface_area_sqm  \\\n",
            "0                   19                     8.9                         74   \n",
            "1                   11                     4.9                         27   \n",
            "2                   26                     5.5                         58   \n",
            "3                   17                     4.9                         20   \n",
            "4                   10                     6.4                         94   \n",
            "\n",
            "   wind_speed_kmh   algae_type  \n",
            "0            12.4  Scenedesmus  \n",
            "1            14.7   Dunaliella  \n",
            "2            17.4   Dunaliella  \n",
            "3            12.4   Dunaliella  \n",
            "4            14.3  Scenedesmus  \n"
          ]
        }
      ]
    },
    {
      "cell_type": "code",
      "source": [
        "from sklearn.model_selection import train_test_split\n",
        "from sklearn.ensemble import RandomForestClassifier\n",
        "\n",
        "X_wall = wall_df.drop(\"wall_design\", axis=1)\n",
        "y_wall = wall_df[\"wall_design\"]\n",
        "\n"
      ],
      "metadata": {
        "id": "juR-DbPA5IGy"
      },
      "execution_count": null,
      "outputs": []
    },
    {
      "cell_type": "code",
      "source": [
        "Xw_train, Xw_test, yw_train, yw_test = train_test_split(\n",
        "    X_wall, y_wall, test_size=0.2, random_state=42\n",
        ")\n",
        "model_wall = RandomForestClassifier(n_estimators=300, random_state=42)\n",
        "model_wall.fit(Xw_train, yw_train)\n",
        "score_wall = model_wall.score(Xw_test, yw_test)\n",
        "print(\"Wall design model accuracy:\", score_wall)\n"
      ],
      "metadata": {
        "colab": {
          "base_uri": "https://localhost:8080/"
        },
        "id": "8QYj35Bu6h9L",
        "outputId": "847f876b-9aca-49f7-a942-83cf381539e6"
      },
      "execution_count": null,
      "outputs": [
        {
          "output_type": "stream",
          "name": "stdout",
          "text": [
            "Wall design model accuracy: 0.2\n"
          ]
        }
      ]
    },
    {
      "cell_type": "code",
      "source": [
        "import pandas as pd\n",
        "import numpy as np\n",
        "\n",
        "from sklearn.ensemble import RandomForestClassifier\n",
        "from sklearn.model_selection import train_test_split, GridSearchCV\n",
        "from sklearn.metrics import classification_report, confusion_matrix\n",
        "from imblearn.over_sampling import RandomOverSampler\n",
        "import joblib\n",
        "\n",
        "# 1) Load your dataset\n",
        "df = pd.read_csv(\"WallDesign_data.csv\")\n",
        "\n",
        "# 2) Separate features & target\n",
        "X_wall = df.drop(\"wall_design\", axis=1)\n",
        "y_wall = df[\"wall_design\"]\n",
        "\n",
        "# 3) Train/test split\n",
        "Xw_train, Xw_test, yw_train, yw_test = train_test_split(\n",
        "    X_wall, y_wall, test_size=0.2, random_state=42\n",
        ")\n",
        "\n",
        "# 4) Check for class imbalance\n",
        "print(\"Before oversampling, training set class distribution:\")\n",
        "print(yw_train.value_counts())\n",
        "\n",
        "# 5) Oversample minority classes using RandomOverSampler\n",
        "ros = RandomOverSampler(random_state=42)\n",
        "Xw_train_ros, yw_train_ros = ros.fit_resample(Xw_train, yw_train)\n",
        "\n",
        "print(\"\\nAfter oversampling, training set class distribution:\")\n",
        "print(yw_train_ros.value_counts())\n",
        "\n",
        "# 6) Hyperparameter tuning with GridSearchCV\n",
        "param_grid = {\n",
        "    'n_estimators': [100, 200, 300],\n",
        "    'max_depth': [None, 5, 10, 20],\n",
        "    'min_samples_split': [2, 5, 10]\n",
        "}\n",
        "\n",
        "rfc = RandomForestClassifier(random_state=42)\n",
        "\n",
        "grid_search = GridSearchCV(\n",
        "    estimator=rfc,\n",
        "    param_grid=param_grid,\n",
        "    cv=3,\n",
        "    scoring='accuracy',\n",
        "    n_jobs=-1\n",
        ")\n",
        "\n",
        "grid_search.fit(Xw_train_ros, yw_train_ros)\n",
        "\n",
        "print(\"\\nBest Params found:\", grid_search.best_params_)\n",
        "\n",
        "# 7) Evaluate best model\n",
        "best_model = grid_search.best_estimator_\n",
        "score_wall = best_model.score(Xw_test, yw_test)\n",
        "print(f\"Wall design model accuracy after oversampling & tuning: {score_wall:.3f}\")\n",
        "\n",
        "# 8) Check classification report\n",
        "y_pred = best_model.predict(Xw_test)\n",
        "print(\"\\nClassification Report:\")\n",
        "print(classification_report(yw_test, y_pred))\n",
        "\n",
        "# 9) (Optional) Save the best model\n",
        "joblib.dump(best_model, \"wall_design_model_best.pkl\")\n",
        "print(\"✅ Model saved as wall_design_model_best.pkl!\")\n",
        "\n",
        "\n"
      ],
      "metadata": {
        "colab": {
          "base_uri": "https://localhost:8080/"
        },
        "id": "dMdRFaVDGII9",
        "outputId": "bee1b866-78dd-488b-bdce-c3ef09d594a8"
      },
      "execution_count": null,
      "outputs": [
        {
          "output_type": "stream",
          "name": "stdout",
          "text": [
            "Before oversampling, training set class distribution:\n",
            "wall_design\n",
            "Flat Panel         37\n",
            "Tubular            36\n",
            "Vertical Tower     27\n",
            "Modular Hexagon    20\n",
            "Name: count, dtype: int64\n",
            "\n",
            "After oversampling, training set class distribution:\n",
            "wall_design\n",
            "Tubular            37\n",
            "Flat Panel         37\n",
            "Modular Hexagon    37\n",
            "Vertical Tower     37\n",
            "Name: count, dtype: int64\n",
            "\n",
            "Best Params found: {'max_depth': None, 'min_samples_split': 2, 'n_estimators': 200}\n",
            "Wall design model accuracy after oversampling & tuning: 0.133\n",
            "\n",
            "Classification Report:\n",
            "                 precision    recall  f1-score   support\n",
            "\n",
            "     Flat Panel       0.00      0.00      0.00         3\n",
            "Modular Hexagon       0.00      0.00      0.00        11\n",
            "        Tubular       0.40      0.44      0.42         9\n",
            " Vertical Tower       0.00      0.00      0.00         7\n",
            "\n",
            "       accuracy                           0.13        30\n",
            "      macro avg       0.10      0.11      0.11        30\n",
            "   weighted avg       0.12      0.13      0.13        30\n",
            "\n",
            "✅ Model saved as wall_design_model_best.pkl!\n"
          ]
        }
      ]
    },
    {
      "cell_type": "code",
      "source": [
        "\n",
        "import pandas as pd\n",
        "import numpy as np\n",
        "\n",
        "# We want 150 rows\n",
        "num_rows = 150\n",
        "np.random.seed(42)\n",
        "\n",
        "# Step 1: Randomly generate environment data\n",
        "greywater_usage_liters = np.random.randint(100, 1000, num_rows)\n",
        "co2_levels_ppm = np.random.randint(300, 700, num_rows)\n",
        "humidity_percentage = np.random.randint(20, 80, num_rows)\n",
        "temperature_celsius = np.random.randint(10, 35, num_rows)\n",
        "sunlight_hours_average = np.random.uniform(3, 12, num_rows).round(1)\n",
        "building_surface_area_sqm = np.random.randint(10, 100, num_rows)\n",
        "wind_speed_kmh = np.random.uniform(5, 25, num_rows).round(1)\n",
        "\n",
        "# Step 2: Prepare placeholders for target columns\n",
        "algae_type = []\n",
        "wall_design = []\n",
        "\n",
        "# Step 3: Define logic-based assignment\n",
        "for i in range(num_rows):\n",
        "    temp = temperature_celsius[i]\n",
        "    humid = humidity_percentage[i]\n",
        "    co2 = co2_levels_ppm[i]\n",
        "    wind = wind_speed_kmh[i]\n",
        "    area = building_surface_area_sqm[i]\n",
        "\n",
        "    # Assign ALGAE TYPE based on temp & humidity\n",
        "    if temp > 30 and humid > 60:\n",
        "        # Warm + humid => likely Spirulina\n",
        "        chosen_algae = \"Spirulina\"\n",
        "    elif temp < 20 and humid < 50:\n",
        "        # Cool + dry => either Ulva or Dunaliella\n",
        "        chosen_algae = np.random.choice([\"Ulva\", \"Dunaliella\"])\n",
        "    else:\n",
        "        # moderate conditions => Chlorella or Scenedesmus\n",
        "        chosen_algae = np.random.choice([\"Chlorella\", \"Scenedesmus\"])\n",
        "\n",
        "    algae_type.append(chosen_algae)\n",
        "\n",
        "    # Assign WALL DESIGN based on wind speed & CO2\n",
        "    if wind > 20 and co2 > 550:\n",
        "        chosen_design = \"Tubular\"\n",
        "    elif wind < 10 and co2 < 450:\n",
        "        chosen_design = \"Flat Panel\"\n",
        "    elif area < 30:\n",
        "        chosen_design = \"Vertical Tower\"\n",
        "    else:\n",
        "        chosen_design = \"Modular Hexagon\"\n",
        "\n",
        "    wall_design.append(chosen_design)\n",
        "\n",
        "# Create DataFrame\n",
        "df = pd.DataFrame({\n",
        "    \"greywater_usage_liters\": greywater_usage_liters,\n",
        "    \"co2_levels_ppm\": co2_levels_ppm,\n",
        "    \"humidity_percentage\": humidity_percentage,\n",
        "    \"temperature_celsius\": temperature_celsius,\n",
        "    \"sunlight_hours_average\": sunlight_hours_average,\n",
        "    \"building_surface_area_sqm\": building_surface_area_sqm,\n",
        "    \"wind_speed_kmh\": wind_speed_kmh,\n",
        "    \"algae_type\": algae_type,\n",
        "    \"wall_design\": wall_design\n",
        "})\n",
        "\n",
        "# Save to CSV\n",
        "csv_filename = \"EcoSphereAI_dataset_150_logic.csv\"\n",
        "df.to_csv(csv_filename, index=False)\n",
        "\n",
        "print(f\"✅ Generated {num_rows} rows with logic-based assignments → {csv_filename}\")\n",
        "print(df.head(15))\n"
      ],
      "metadata": {
        "colab": {
          "base_uri": "https://localhost:8080/"
        },
        "id": "IjiDFSZBH2cq",
        "outputId": "6b1dffeb-6889-4a3c-9c75-55920c763047"
      },
      "execution_count": null,
      "outputs": [
        {
          "output_type": "stream",
          "name": "stdout",
          "text": [
            "✅ Generated 150 rows with logic-based assignments → EcoSphereAI_dataset_150_logic.csv\n",
            "    greywater_usage_liters  co2_levels_ppm  humidity_percentage  \\\n",
            "0                      202             361                   47   \n",
            "1                      535             515                   76   \n",
            "2                      960             592                   44   \n",
            "3                      370             398                   69   \n",
            "4                      206             471                   42   \n",
            "5                      171             659                   50   \n",
            "6                      800             513                   49   \n",
            "7                      120             334                   61   \n",
            "8                      714             526                   54   \n",
            "9                      221             400                   26   \n",
            "10                     566             430                   79   \n",
            "11                     314             556                   35   \n",
            "12                     430             304                   45   \n",
            "13                     558             517                   67   \n",
            "14                     187             554                   76   \n",
            "\n",
            "    temperature_celsius  sunlight_hours_average  building_surface_area_sqm  \\\n",
            "0                    19                     8.9                         74   \n",
            "1                    11                     4.9                         27   \n",
            "2                    26                     5.5                         58   \n",
            "3                    17                     4.9                         20   \n",
            "4                    10                     6.4                         94   \n",
            "5                    18                     3.4                         35   \n",
            "6                    20                     8.6                         72   \n",
            "7                    31                     6.0                         98   \n",
            "8                    25                     8.9                         95   \n",
            "9                    16                     6.5                         68   \n",
            "10                   19                     9.1                         36   \n",
            "11                   32                     6.1                         58   \n",
            "12                   12                     5.3                         86   \n",
            "13                   27                     7.5                         42   \n",
            "14                   34                     9.2                         10   \n",
            "\n",
            "    wind_speed_kmh   algae_type      wall_design  \n",
            "0             12.4   Dunaliella  Modular Hexagon  \n",
            "1             14.7  Scenedesmus   Vertical Tower  \n",
            "2             17.4  Scenedesmus  Modular Hexagon  \n",
            "3             12.4    Chlorella   Vertical Tower  \n",
            "4             14.3         Ulva  Modular Hexagon  \n",
            "5             19.9  Scenedesmus  Modular Hexagon  \n",
            "6              5.7    Chlorella  Modular Hexagon  \n",
            "7             10.0    Spirulina  Modular Hexagon  \n",
            "8             19.3    Chlorella  Modular Hexagon  \n",
            "9             22.9         Ulva  Modular Hexagon  \n",
            "10            15.2  Scenedesmus  Modular Hexagon  \n",
            "11            15.6  Scenedesmus  Modular Hexagon  \n",
            "12             7.1         Ulva       Flat Panel  \n",
            "13            13.9  Scenedesmus  Modular Hexagon  \n",
            "14            15.7    Spirulina   Vertical Tower  \n"
          ]
        }
      ]
    },
    {
      "cell_type": "code",
      "source": [
        "import pandas as pd\n",
        "from sklearn.model_selection import train_test_split\n",
        "from imblearn.over_sampling import SMOTE\n",
        "from sklearn.preprocessing import LabelEncoder\n",
        "from collections import Counter\n",
        "\n",
        "# 1️⃣ Load the dataset\n",
        "df = pd.read_csv(\"algae-sustainability-dataset.csv\")\n",
        "\n",
        "# 2️⃣ Encode categorical columns\n",
        "label_encoder = LabelEncoder()\n",
        "for column in df.columns:\n",
        "    if df[column].dtype == \"object\":\n",
        "        df[column] = label_encoder.fit_transform(df[column])\n",
        "\n",
        "# 3️⃣ Separate features and target\n",
        "X = df.drop(\"algae_type\", axis=1)\n",
        "y = df[\"algae_type\"]\n",
        "\n",
        "# 4️⃣ Show original class distribution\n",
        "print(\"Original class distribution:\", Counter(y))\n",
        "\n",
        "# 5️⃣ Apply SMOTE to balance classes\n",
        "smote = SMOTE(random_state=42)\n",
        "X_resampled, y_resampled = smote.fit_resample(X, y)\n",
        "\n",
        "# 6️⃣ Show new balanced class distribution\n",
        "print(\"Balanced class distribution:\", Counter(y_resampled))\n",
        "\n",
        "# 7️⃣ Split the balanced data for training\n",
        "X_train, X_test, y_train, y_test = train_test_split(\n",
        "    X_resampled, y_resampled, test_size=0.2, random_state=42\n",
        ")\n",
        "\n",
        "print(\"✅ Dataset cleaned, encoded, balanced, and split successfully!\")\n",
        "\n"
      ],
      "metadata": {
        "colab": {
          "base_uri": "https://localhost:8080/"
        },
        "id": "GHqMVohaKfEE",
        "outputId": "d516751e-e3bc-48da-b960-6e3bbc62676c"
      },
      "execution_count": null,
      "outputs": [
        {
          "output_type": "stream",
          "name": "stdout",
          "text": [
            "Original class distribution: Counter({0: 898, 2: 57, 1: 45})\n",
            "Balanced class distribution: Counter({0: 898, 2: 898, 1: 898})\n",
            "✅ Dataset cleaned, encoded, balanced, and split successfully!\n"
          ]
        }
      ]
    },
    {
      "cell_type": "code",
      "source": [
        "import pandas as pd\n",
        "from sklearn.model_selection import train_test_split\n",
        "from imblearn.over_sampling import SMOTE\n",
        "from sklearn.preprocessing import LabelEncoder\n",
        "from collections import Counter\n",
        "\n",
        "# 1️⃣ Load the dataset\n",
        "df = pd.read_csv(\"algae-sustainability-dataset.csv\")\n",
        "\n",
        "# 2️⃣ Encode categorical columns\n",
        "label_encoder = LabelEncoder()\n",
        "for column in df.columns:\n",
        "    if df[column].dtype == \"object\":\n",
        "        df[column] = label_encoder.fit_transform(df[column])\n",
        "\n",
        "# 3️⃣ Separate features and target\n",
        "X = df.drop(\"algae_type\", axis=1)\n",
        "y = df[\"algae_type\"]\n",
        "\n",
        "# 4️⃣ Show original class distribution\n",
        "print(\"Original class distribution:\", Counter(y))\n",
        "\n",
        "# 5️⃣ Apply SMOTE to balance classes\n",
        "smote = SMOTE(random_state=42)\n",
        "X_resampled, y_resampled = smote.fit_resample(X, y)\n",
        "\n",
        "# 6️⃣ Show new balanced class distribution\n",
        "print(\"Balanced class distribution:\", Counter(y_resampled))\n",
        "\n",
        "# 7️⃣ Combine balanced data into a new DataFrame\n",
        "balanced_df = pd.DataFrame(X_resampled, columns=X.columns)\n",
        "balanced_df[\"algae_type\"] = y_resampled\n",
        "\n",
        "# 8️⃣ Save the cleaned dataset\n",
        "balanced_df.to_csv(\"cleaned_balanced_algae_dataset.csv\", index=False)\n",
        "\n",
        "print(\"✅ Cleaned dataset saved as 'cleaned_balanced_algae_dataset.csv'!\")\n"
      ],
      "metadata": {
        "colab": {
          "base_uri": "https://localhost:8080/"
        },
        "id": "AFRieqhnPLcw",
        "outputId": "cbc76701-dc11-4a89-a27d-d7b55b08050f"
      },
      "execution_count": null,
      "outputs": [
        {
          "output_type": "stream",
          "name": "stdout",
          "text": [
            "Original class distribution: Counter({0: 898, 2: 57, 1: 45})\n",
            "Balanced class distribution: Counter({0: 898, 2: 898, 1: 898})\n",
            "✅ Cleaned dataset saved as 'cleaned_balanced_algae_dataset.csv'!\n"
          ]
        }
      ]
    },
    {
      "cell_type": "code",
      "source": [
        "\n",
        "import pandas as pd\n",
        "from sklearn.model_selection import train_test_split\n",
        "from imblearn.over_sampling import SMOTE\n",
        "from sklearn.preprocessing import LabelEncoder\n",
        "from collections import Counter\n",
        "\n",
        "# 1️⃣ Load the dataset\n",
        "df = pd.read_csv(\"algae-sustainability-dataset.csv\")\n",
        "\n",
        "# 2️⃣ Encode only feature columns (leave the target as is)\n",
        "label_encoder = LabelEncoder()\n",
        "for column in df.columns:\n",
        "    if df[column].dtype == \"object\" and column != \"algae_type\":\n",
        "        df[column] = label_encoder.fit_transform(df[column])\n",
        "\n",
        "# 3️⃣ Separate features and target\n",
        "X = df.drop(\"algae_type\", axis=1)\n",
        "y = df[\"algae_type\"]\n",
        "\n",
        "# 4️⃣ Show original class distribution\n",
        "print(\"Original class distribution:\", Counter(y))\n",
        "\n",
        "# 5️⃣ Apply SMOTE to balance classes\n",
        "smote = SMOTE(random_state=42)\n",
        "X_resampled, y_resampled = smote.fit_resample(X, y)\n",
        "\n",
        "# 6️⃣ Show new balanced class distribution\n",
        "print(\"Balanced class distribution:\", Counter(y_resampled))\n",
        "\n",
        "# 7️⃣ Combine balanced data into a new DataFrame\n",
        "balanced_df = pd.DataFrame(X_resampled, columns=X.columns)\n",
        "balanced_df[\"algae_type\"] = y_resampled  # Keep original algae type names\n",
        "\n",
        "# 8️⃣ Save the cleaned dataset\n",
        "balanced_df.to_csv(\"cleaned_balanced_algae_dataset.csv\", index=False)\n",
        "\n",
        "print(\"Cleaned dataset saved as 'cleaned_balanced_algae_dataset.csv'!\")\n",
        "\n",
        "\n",
        "\n"
      ],
      "metadata": {
        "id": "eASMN0NoPy3V",
        "colab": {
          "base_uri": "https://localhost:8080/"
        },
        "outputId": "e3d2962e-dacb-4735-bda0-e6241af7562b"
      },
      "execution_count": null,
      "outputs": [
        {
          "output_type": "stream",
          "name": "stdout",
          "text": [
            "Original class distribution: Counter({'Chlorella': 898, 'Ulva': 57, 'Spirulina': 45})\n",
            "Balanced class distribution: Counter({'Chlorella': 898, 'Ulva': 898, 'Spirulina': 898})\n",
            "Cleaned dataset saved as 'cleaned_balanced_algae_dataset.csv'!\n"
          ]
        }
      ]
    },
    {
      "cell_type": "code",
      "source": [
        "import pandas as pd\n",
        "\n",
        "# Load the dataset\n",
        "df = pd.read_csv('cleaned_balanced_algae_dataset (1).csv')\n",
        "\n",
        "# Check the distribution of algae types\n",
        "print(df['algae_type'].value_counts())\n"
      ],
      "metadata": {
        "colab": {
          "base_uri": "https://localhost:8080/"
        },
        "id": "LEF6j3lbRwyj",
        "outputId": "f3d40dd6-2f76-424f-b085-49dee48b9213"
      },
      "execution_count": null,
      "outputs": [
        {
          "output_type": "stream",
          "name": "stdout",
          "text": [
            "algae_type\n",
            "Chlorella    898\n",
            "Ulva         898\n",
            "Spirulina    898\n",
            "Name: count, dtype: int64\n"
          ]
        }
      ]
    },
    {
      "cell_type": "code",
      "source": [
        "from sklearn.model_selection import train_test_split\n",
        "\n",
        "# Define features (X) and target (y)\n",
        "X = df.drop(['algae_type', 'wall_design'], axis=1)  # Inputs\n",
        "y_algae = df['algae_type']  # Target 1 - Algae type\n",
        "y_wall = df['wall_design']  # Target 2 - Wall design\n",
        "\n",
        "# Split for algae type prediction\n",
        "X_train_a, X_test_a, y_train_a, y_test_a = train_test_split(X, y_algae, test_size=0.2, random_state=42)\n",
        "\n",
        "# Split for wall design prediction\n",
        "X_train_w, X_test_w, y_train_w, y_test_w = train_test_split(X, y_wall, test_size=0.2, random_state=42)\n"
      ],
      "metadata": {
        "id": "ovR7jHxgS34X"
      },
      "execution_count": null,
      "outputs": []
    },
    {
      "cell_type": "code",
      "source": [
        "from sklearn.ensemble import RandomForestClassifier\n",
        "from sklearn.metrics import accuracy_score\n",
        "\n",
        "# Algae type prediction model\n",
        "algae_model = RandomForestClassifier(n_estimators=500, max_depth=20, random_state=42)\n",
        "algae_model.fit(X_train_a, y_train_a)\n",
        "\n",
        "# Wall design prediction model\n",
        "wall_model = RandomForestClassifier(n_estimators=500, max_depth=20, random_state=42)\n",
        "wall_model.fit(X_train_w, y_train_w)\n",
        "\n",
        "# Check accuracy for both models\n",
        "algae_preds = algae_model.predict(X_test_a)\n",
        "wall_preds = wall_model.predict(X_test_w)\n",
        "\n",
        "print(\"Algae Type Model Accuracy:\", accuracy_score(y_test_a, algae_preds))\n",
        "print(\"Wall Design Model Accuracy:\", accuracy_score(y_test_w, wall_preds))\n"
      ],
      "metadata": {
        "colab": {
          "base_uri": "https://localhost:8080/"
        },
        "id": "psxQao7kS9LU",
        "outputId": "2e699ccc-945b-47c4-c811-74d69dc74dfc"
      },
      "execution_count": null,
      "outputs": [
        {
          "output_type": "stream",
          "name": "stdout",
          "text": [
            "Algae Type Model Accuracy: 1.0\n",
            "Wall Design Model Accuracy: 0.9387755102040817\n"
          ]
        }
      ]
    },
    {
      "cell_type": "code",
      "source": [
        "import pandas as pd\n",
        "\n",
        "df = pd.read_csv('cleaned_balanced_algae_dataset.csv')\n",
        "\n",
        "# Count unique values per target\n",
        "print(\"Algae Type Distribution:\")\n",
        "print(df['algae_type'].value_counts())\n",
        "print(\"\\nWall Design Distribution:\")\n",
        "print(df['wall_design'].value_counts())\n"
      ],
      "metadata": {
        "colab": {
          "base_uri": "https://localhost:8080/"
        },
        "id": "V31eUfDWTtOh",
        "outputId": "a248ac76-3ca9-4c7c-d248-2e1df092d405"
      },
      "execution_count": null,
      "outputs": [
        {
          "output_type": "stream",
          "name": "stdout",
          "text": [
            "Algae Type Distribution:\n",
            "algae_type\n",
            "Chlorella    898\n",
            "Ulva         898\n",
            "Spirulina    898\n",
            "Name: count, dtype: int64\n",
            "\n",
            "Wall Design Distribution:\n",
            "wall_design\n",
            "1    1595\n",
            "0     570\n",
            "2     279\n",
            "3     250\n",
            "Name: count, dtype: int64\n"
          ]
        }
      ]
    },
    {
      "cell_type": "code",
      "source": [
        "import pandas as pd\n",
        "\n",
        "# Load dataset\n",
        "data = pd.read_csv('algae_weather_greywater_dataset.csv')\n",
        "\n",
        "# Display basic info\n",
        "print(\"🔹 Dataset Info:\")\n",
        "print(data.info())\n",
        "print(\"\\n🔹 First 5 rows:\")\n",
        "print(data.head())\n",
        "\n",
        "# Check class distribution\n",
        "print(\"\\n🔹 Algae Type Distribution:\")\n",
        "print(data['algae_type'].value_counts())\n",
        "\n",
        "print(\"\\n🔹 Wall Design Distribution:\")\n",
        "print(data['wall_design'].value_counts())\n",
        "\n",
        "# Check for missing values\n",
        "print(\"\\n🔹 Missing Values:\")\n",
        "print(data.isnull().sum())\n"
      ],
      "metadata": {
        "colab": {
          "base_uri": "https://localhost:8080/",
          "height": 1000
        },
        "id": "0SYW2-49Tt6U",
        "outputId": "672e9f36-2739-4083-f87e-950c99cfed2c"
      },
      "execution_count": null,
      "outputs": [
        {
          "output_type": "stream",
          "name": "stdout",
          "text": [
            "🔹 Dataset Info:\n",
            "<class 'pandas.core.frame.DataFrame'>\n",
            "RangeIndex: 5000 entries, 0 to 4999\n",
            "Data columns (total 10 columns):\n",
            " #   Column          Non-Null Count  Dtype  \n",
            "---  ------          --------------  -----  \n",
            " 0   temperature     5000 non-null   float64\n",
            " 1   humidity        5000 non-null   float64\n",
            " 2   sunlight_hours  5000 non-null   float64\n",
            " 3   rainfall        5000 non-null   float64\n",
            " 4   ph              5000 non-null   float64\n",
            " 5   nitrogen        5000 non-null   float64\n",
            " 6   phosphorus      5000 non-null   float64\n",
            " 7   bod             5000 non-null   float64\n",
            " 8   algae_type      5000 non-null   object \n",
            " 9   algae_encoded   5000 non-null   int64  \n",
            "dtypes: float64(8), int64(1), object(1)\n",
            "memory usage: 390.8+ KB\n",
            "None\n",
            "\n",
            "🔹 First 5 rows:\n",
            "   temperature   humidity  sunlight_hours  rainfall        ph  nitrogen  \\\n",
            "0    26.839287  51.316993        7.911123  9.497806  4.500000  8.694790   \n",
            "1    22.003827  49.433191        5.885964  8.958699  7.137713  7.669985   \n",
            "2    27.878600  65.997958        9.326963  9.054032  6.821440  7.755127   \n",
            "3    31.779525  56.549697       13.188725  7.764454  9.500000  5.278545   \n",
            "4    22.271032  56.569166        9.419045  8.911669  8.276542  4.841871   \n",
            "\n",
            "   phosphorus        bod   algae_type  algae_encoded  \n",
            "0    2.574931  44.484899   Dunaliella              1  \n",
            "1    2.212140  27.831603    Chlorella              0  \n",
            "2    3.095941  23.850253    Chlorella              0  \n",
            "3    2.469555  16.902231    Spirulina              4  \n",
            "4    3.955219  30.284212  Scenedesmus              3  \n",
            "\n",
            "🔹 Algae Type Distribution:\n",
            "algae_type\n",
            "Scenedesmus      3079\n",
            "Chlorella        1102\n",
            "Dunaliella        382\n",
            "Spirulina         342\n",
            "Haematococcus      95\n",
            "Name: count, dtype: int64\n",
            "\n",
            "🔹 Wall Design Distribution:\n"
          ]
        },
        {
          "output_type": "error",
          "ename": "KeyError",
          "evalue": "'wall_design'",
          "traceback": [
            "\u001b[0;31m---------------------------------------------------------------------------\u001b[0m",
            "\u001b[0;31mKeyError\u001b[0m                                  Traceback (most recent call last)",
            "\u001b[0;32m/usr/local/lib/python3.11/dist-packages/pandas/core/indexes/base.py\u001b[0m in \u001b[0;36mget_loc\u001b[0;34m(self, key)\u001b[0m\n\u001b[1;32m   3804\u001b[0m         \u001b[0;32mtry\u001b[0m\u001b[0;34m:\u001b[0m\u001b[0;34m\u001b[0m\u001b[0;34m\u001b[0m\u001b[0m\n\u001b[0;32m-> 3805\u001b[0;31m             \u001b[0;32mreturn\u001b[0m \u001b[0mself\u001b[0m\u001b[0;34m.\u001b[0m\u001b[0m_engine\u001b[0m\u001b[0;34m.\u001b[0m\u001b[0mget_loc\u001b[0m\u001b[0;34m(\u001b[0m\u001b[0mcasted_key\u001b[0m\u001b[0;34m)\u001b[0m\u001b[0;34m\u001b[0m\u001b[0;34m\u001b[0m\u001b[0m\n\u001b[0m\u001b[1;32m   3806\u001b[0m         \u001b[0;32mexcept\u001b[0m \u001b[0mKeyError\u001b[0m \u001b[0;32mas\u001b[0m \u001b[0merr\u001b[0m\u001b[0;34m:\u001b[0m\u001b[0;34m\u001b[0m\u001b[0;34m\u001b[0m\u001b[0m\n",
            "\u001b[0;32mindex.pyx\u001b[0m in \u001b[0;36mpandas._libs.index.IndexEngine.get_loc\u001b[0;34m()\u001b[0m\n",
            "\u001b[0;32mindex.pyx\u001b[0m in \u001b[0;36mpandas._libs.index.IndexEngine.get_loc\u001b[0;34m()\u001b[0m\n",
            "\u001b[0;32mpandas/_libs/hashtable_class_helper.pxi\u001b[0m in \u001b[0;36mpandas._libs.hashtable.PyObjectHashTable.get_item\u001b[0;34m()\u001b[0m\n",
            "\u001b[0;32mpandas/_libs/hashtable_class_helper.pxi\u001b[0m in \u001b[0;36mpandas._libs.hashtable.PyObjectHashTable.get_item\u001b[0;34m()\u001b[0m\n",
            "\u001b[0;31mKeyError\u001b[0m: 'wall_design'",
            "\nThe above exception was the direct cause of the following exception:\n",
            "\u001b[0;31mKeyError\u001b[0m                                  Traceback (most recent call last)",
            "\u001b[0;32m<ipython-input-40-33a67a480a48>\u001b[0m in \u001b[0;36m<cell line: 0>\u001b[0;34m()\u001b[0m\n\u001b[1;32m     15\u001b[0m \u001b[0;34m\u001b[0m\u001b[0m\n\u001b[1;32m     16\u001b[0m \u001b[0mprint\u001b[0m\u001b[0;34m(\u001b[0m\u001b[0;34m\"\\n🔹 Wall Design Distribution:\"\u001b[0m\u001b[0;34m)\u001b[0m\u001b[0;34m\u001b[0m\u001b[0;34m\u001b[0m\u001b[0m\n\u001b[0;32m---> 17\u001b[0;31m \u001b[0mprint\u001b[0m\u001b[0;34m(\u001b[0m\u001b[0mdata\u001b[0m\u001b[0;34m[\u001b[0m\u001b[0;34m'wall_design'\u001b[0m\u001b[0;34m]\u001b[0m\u001b[0;34m.\u001b[0m\u001b[0mvalue_counts\u001b[0m\u001b[0;34m(\u001b[0m\u001b[0;34m)\u001b[0m\u001b[0;34m)\u001b[0m\u001b[0;34m\u001b[0m\u001b[0;34m\u001b[0m\u001b[0m\n\u001b[0m\u001b[1;32m     18\u001b[0m \u001b[0;34m\u001b[0m\u001b[0m\n\u001b[1;32m     19\u001b[0m \u001b[0;31m# Check for missing values\u001b[0m\u001b[0;34m\u001b[0m\u001b[0;34m\u001b[0m\u001b[0m\n",
            "\u001b[0;32m/usr/local/lib/python3.11/dist-packages/pandas/core/frame.py\u001b[0m in \u001b[0;36m__getitem__\u001b[0;34m(self, key)\u001b[0m\n\u001b[1;32m   4100\u001b[0m             \u001b[0;32mif\u001b[0m \u001b[0mself\u001b[0m\u001b[0;34m.\u001b[0m\u001b[0mcolumns\u001b[0m\u001b[0;34m.\u001b[0m\u001b[0mnlevels\u001b[0m \u001b[0;34m>\u001b[0m \u001b[0;36m1\u001b[0m\u001b[0;34m:\u001b[0m\u001b[0;34m\u001b[0m\u001b[0;34m\u001b[0m\u001b[0m\n\u001b[1;32m   4101\u001b[0m                 \u001b[0;32mreturn\u001b[0m \u001b[0mself\u001b[0m\u001b[0;34m.\u001b[0m\u001b[0m_getitem_multilevel\u001b[0m\u001b[0;34m(\u001b[0m\u001b[0mkey\u001b[0m\u001b[0;34m)\u001b[0m\u001b[0;34m\u001b[0m\u001b[0;34m\u001b[0m\u001b[0m\n\u001b[0;32m-> 4102\u001b[0;31m             \u001b[0mindexer\u001b[0m \u001b[0;34m=\u001b[0m \u001b[0mself\u001b[0m\u001b[0;34m.\u001b[0m\u001b[0mcolumns\u001b[0m\u001b[0;34m.\u001b[0m\u001b[0mget_loc\u001b[0m\u001b[0;34m(\u001b[0m\u001b[0mkey\u001b[0m\u001b[0;34m)\u001b[0m\u001b[0;34m\u001b[0m\u001b[0;34m\u001b[0m\u001b[0m\n\u001b[0m\u001b[1;32m   4103\u001b[0m             \u001b[0;32mif\u001b[0m \u001b[0mis_integer\u001b[0m\u001b[0;34m(\u001b[0m\u001b[0mindexer\u001b[0m\u001b[0;34m)\u001b[0m\u001b[0;34m:\u001b[0m\u001b[0;34m\u001b[0m\u001b[0;34m\u001b[0m\u001b[0m\n\u001b[1;32m   4104\u001b[0m                 \u001b[0mindexer\u001b[0m \u001b[0;34m=\u001b[0m \u001b[0;34m[\u001b[0m\u001b[0mindexer\u001b[0m\u001b[0;34m]\u001b[0m\u001b[0;34m\u001b[0m\u001b[0;34m\u001b[0m\u001b[0m\n",
            "\u001b[0;32m/usr/local/lib/python3.11/dist-packages/pandas/core/indexes/base.py\u001b[0m in \u001b[0;36mget_loc\u001b[0;34m(self, key)\u001b[0m\n\u001b[1;32m   3810\u001b[0m             ):\n\u001b[1;32m   3811\u001b[0m                 \u001b[0;32mraise\u001b[0m \u001b[0mInvalidIndexError\u001b[0m\u001b[0;34m(\u001b[0m\u001b[0mkey\u001b[0m\u001b[0;34m)\u001b[0m\u001b[0;34m\u001b[0m\u001b[0;34m\u001b[0m\u001b[0m\n\u001b[0;32m-> 3812\u001b[0;31m             \u001b[0;32mraise\u001b[0m \u001b[0mKeyError\u001b[0m\u001b[0;34m(\u001b[0m\u001b[0mkey\u001b[0m\u001b[0;34m)\u001b[0m \u001b[0;32mfrom\u001b[0m \u001b[0merr\u001b[0m\u001b[0;34m\u001b[0m\u001b[0;34m\u001b[0m\u001b[0m\n\u001b[0m\u001b[1;32m   3813\u001b[0m         \u001b[0;32mexcept\u001b[0m \u001b[0mTypeError\u001b[0m\u001b[0;34m:\u001b[0m\u001b[0;34m\u001b[0m\u001b[0;34m\u001b[0m\u001b[0m\n\u001b[1;32m   3814\u001b[0m             \u001b[0;31m# If we have a listlike key, _check_indexing_error will raise\u001b[0m\u001b[0;34m\u001b[0m\u001b[0;34m\u001b[0m\u001b[0m\n",
            "\u001b[0;31mKeyError\u001b[0m: 'wall_design'"
          ]
        }
      ]
    },
    {
      "cell_type": "code",
      "source": [
        "import pandas as pd\n",
        "import numpy as np\n",
        "\n",
        "# Define algae types and their optimal temperature ranges\n",
        "algae_info = {\n",
        "    'Haematococcus': {'opt_temp': (20, 25), 'opt_sunlight': (6, 8)},\n",
        "    'Chlorella': {'opt_temp': (25, 30), 'opt_sunlight': (5, 7)},\n",
        "    'Spirulina': {'opt_temp': (35, 37), 'opt_sunlight': (8, 10)},\n",
        "    'Scenedesmus': {'opt_temp': (30, 35), 'opt_sunlight': (6, 9)},\n",
        "    'Dunaliella': {'opt_temp': (25, 35), 'opt_sunlight': (7, 9)}\n",
        "}\n",
        "\n",
        "# Define panel types\n",
        "panel_types = ['Flat Panel', 'Tubular Photobioreactor', 'Vertical Column', 'Open Pond']\n",
        "\n",
        "# Function to determine the optimal panel type\n",
        "def determine_panel_type(algae, temp, sunlight):\n",
        "    opt_temp = algae_info[algae]['opt_temp']\n",
        "    opt_sunlight = algae_info[algae]['opt_sunlight']\n",
        "\n",
        "    if opt_temp[0] <= temp <= opt_temp[1] and opt_sunlight[0] <= sunlight <= opt_sunlight[1]:\n",
        "        return 'Flat Panel'\n",
        "    elif temp > opt_temp[1] and sunlight > opt_sunlight[1]:\n",
        "        return 'Open Pond'\n",
        "    elif temp < opt_temp[0] and sunlight < opt_sunlight[0]:\n",
        "        return 'Vertical Column'\n",
        "    else:\n",
        "        return 'Tubular Photobioreactor'\n",
        "\n",
        "# Generate dataset\n",
        "np.random.seed(42)\n",
        "data = []\n",
        "for _ in range(2000):\n",
        "    algae = np.random.choice(list(algae_info.keys()))\n",
        "    temp = np.random.uniform(15, 40)  # Temperature range\n",
        "    sunlight = np.random.uniform(4, 12)  # Sunlight hours range\n",
        "    wall_size = np.random.uniform(10, 100)  # Wall size in m²\n",
        "    algae_amount = np.random.uniform(0.1, 2.0) * wall_size  # Biomass in kg\n",
        "    panel_type = determine_panel_type(algae, temp, sunlight)\n",
        "    data.append([algae, algae_amount, wall_size, temp, sunlight, panel_type])\n",
        "\n",
        "# Create DataFrame\n",
        "df = pd.DataFrame(data, columns=['Algae Type', 'Algae Amount (kg)', 'Wall Size (m²)', 'Temperature (°C)', 'Sunlight Hours', 'Optimal Panel Type'])\n",
        "\n",
        "# Save to CSV\n",
        "df.to_csv('algae_panel_dataset.csv', index=False)\n"
      ],
      "metadata": {
        "id": "6jDuqS2jeczR"
      },
      "execution_count": null,
      "outputs": []
    },
    {
      "cell_type": "code",
      "source": [
        "import pandas as pd\n",
        "import numpy as np\n",
        "\n",
        "# Define algae types with optimal conditions\n",
        "algae_info = {\n",
        "    'Haematococcus': {'opt_temp': (20, 25), 'opt_sunlight': (6, 8)},\n",
        "    'Chlorella': {'opt_temp': (25, 30), 'opt_sunlight': (5, 7)},\n",
        "    'Spirulina': {'opt_temp': (35, 37), 'opt_sunlight': (8, 10)},\n",
        "    'Scenedesmus': {'opt_temp': (30, 35), 'opt_sunlight': (6, 9)},\n",
        "    'Dunaliella': {'opt_temp': (25, 35), 'opt_sunlight': (7, 9)}\n",
        "}\n",
        "\n",
        "# Define four panel types\n",
        "panel_types = ['Flat Panel', 'Tubular Photobioreactor', 'Vertical Column', 'Spiral Coil']\n",
        "\n",
        "# Determine the best panel type scientifically\n",
        "def determine_panel_type(algae, temp, sunlight):\n",
        "    opt_temp = algae_info[algae]['opt_temp']\n",
        "    opt_sunlight = algae_info[algae]['opt_sunlight']\n",
        "\n",
        "    if opt_temp[0] <= temp <= opt_temp[1] and opt_sunlight[0] <= sunlight <= opt_sunlight[1]:\n",
        "        return 'Flat Panel'\n",
        "    elif temp > opt_temp[1] and sunlight > opt_sunlight[1]:\n",
        "        return 'Tubular Photobioreactor'\n",
        "    elif temp < opt_temp[0] and sunlight < opt_sunlight[0]:\n",
        "        return 'Vertical Column'\n",
        "    else:\n",
        "        return 'Spiral Coil'\n",
        "\n",
        "# Generate the dataset\n",
        "np.random.seed(42)\n",
        "data = []\n",
        "for _ in range(2000):\n",
        "    algae = np.random.choice(list(algae_info.keys()))\n",
        "    temp = np.random.uniform(15, 40)  # Temperature range\n",
        "    sunlight = np.random.uniform(4, 12)  # Sunlight hours range\n",
        "    wall_size = np.random.uniform(10, 100)  # Wall size in m²\n",
        "    algae_amount = np.random.uniform(0.1, 2.0) * wall_size  # Biomass in kg\n",
        "    panel_type = determine_panel_type(algae, temp, sunlight)\n",
        "    data.append([algae, algae_amount, wall_size, temp, sunlight, panel_type])\n",
        "\n",
        "# Create DataFrame\n",
        "df = pd.DataFrame(data, columns=['Algae Type', 'Algae Amount (kg)', 'Wall Size (m²)', 'Temperature (°C)', 'Sunlight Hours', 'Optimal Panel Type'])\n",
        "\n",
        "# Save to CSV\n",
        "df.to_csv('algae_panel_dataset_v2.csv', index=False)\n",
        "\n",
        "print(\"✅ Dataset generated successfully!\")\n"
      ],
      "metadata": {
        "colab": {
          "base_uri": "https://localhost:8080/"
        },
        "id": "1Ff5w4k1EAMF",
        "outputId": "18ad0ae1-acec-4957-97f9-23d5117566d9"
      },
      "execution_count": null,
      "outputs": [
        {
          "output_type": "stream",
          "name": "stdout",
          "text": [
            "✅ Dataset generated successfully!\n"
          ]
        }
      ]
    },
    {
      "cell_type": "code",
      "source": [
        "import pandas as pd\n",
        "import numpy as np\n",
        "\n",
        "# Algae species information\n",
        "algae_info = {\n",
        "    'Haematococcus': {'opt_temp': (20, 25), 'opt_sunlight': (6, 8), 'growth_rate': 0.05},\n",
        "    'Chlorella': {'opt_temp': (25, 30), 'opt_sunlight': (5, 7), 'growth_rate': 0.10},\n",
        "    'Spirulina': {'opt_temp': (35, 37), 'opt_sunlight': (8, 10), 'growth_rate': 0.12},\n",
        "    'Scenedesmus': {'opt_temp': (30, 35), 'opt_sunlight': (6, 9), 'growth_rate': 0.08},\n",
        "    'Dunaliella': {'opt_temp': (25, 35), 'opt_sunlight': (7, 9), 'growth_rate': 0.06}\n",
        "}\n",
        "\n",
        "# Panel types\n",
        "panel_types = ['Flat Panel', 'Tubular', 'Vertical Column', 'V-Shaped']\n",
        "\n",
        "# Function to determine optimal panel type\n",
        "def determine_panel_type(algae, temp, sunlight):\n",
        "    opt_temp = algae_info[algae]['opt_temp']\n",
        "    opt_sunlight = algae_info[algae]['opt_sunlight']\n",
        "\n",
        "    if opt_temp[0] <= temp <= opt_temp[1] and opt_sunlight[0] <= sunlight <= opt_sunlight[1]:\n",
        "        return 'Flat Panel'\n",
        "    elif temp > opt_temp[1] and sunlight > opt_sunlight[1]:\n",
        "        return 'Tubular'\n",
        "    elif temp < opt_temp[0] and sunlight < opt_sunlight[0]:\n",
        "        return 'Vertical Column'\n",
        "    else:\n",
        "        return 'V-Shaped'\n",
        "\n",
        "# Generate dataset\n",
        "np.random.seed(42)\n",
        "data = []\n",
        "for _ in range(2000):\n",
        "    algae = np.random.choice(list(algae_info.keys()))\n",
        "    temp = np.random.uniform(15, 40)\n",
        "    sunlight = np.random.uniform(4, 12)\n",
        "    wall_size = np.random.uniform(10, 100)\n",
        "    growth_rate = algae_info[algae]['growth_rate']\n",
        "    algae_amount = growth_rate * wall_size * sunlight  # Simplified biomass estimation\n",
        "    panel_type = determine_panel_type(algae, temp, sunlight)\n",
        "    data.append([algae, algae_amount, wall_size, temp, sunlight, panel_type])\n",
        "\n",
        "# Create DataFrame\n",
        "df = pd.DataFrame(data, columns=['Algae Type', 'Algae Amount (kg)', 'Wall Size (m²)', 'Temperature (°C)', 'Sunlight Hours', 'Optimal Panel Type'])\n",
        "\n",
        "# Save to CSV\n",
        "df.to_csv('scientifically_backed_algae_dataset.csv', index=False)\n",
        "\n",
        "print(\"Dataset generated successfully!\")\n"
      ],
      "metadata": {
        "colab": {
          "base_uri": "https://localhost:8080/"
        },
        "id": "P5sdkYX_H_fR",
        "outputId": "5dc89cdd-0abe-4ce8-cff6-f9af07df1a1c"
      },
      "execution_count": null,
      "outputs": [
        {
          "output_type": "stream",
          "name": "stdout",
          "text": [
            "Dataset generated successfully!\n"
          ]
        }
      ]
    },
    {
      "cell_type": "code",
      "source": [
        "import pandas as pd\n",
        "import numpy as np\n",
        "from sklearn.model_selection import train_test_split\n",
        "from imblearn.over_sampling import SMOTE\n",
        "from sklearn.ensemble import RandomForestClassifier\n",
        "from lightgbm import LGBMClassifier\n",
        "from sklearn.metrics import accuracy_score, classification_report\n",
        "import joblib\n",
        "df_p = pd.read_csv('final_scientifically_backed_algae_dataset.csv')  # algae_type, algae_amount, wall_size, temp, sunlight, panel_type\n",
        "\n",
        "Xp = df_p.drop(['Optimal Panel Type','Algae Type','Algae Type Encoded','Optimal Panel Type Encoded'], axis=1)\n",
        "yp = df_p['Optimal Panel Type']\n",
        "smote = SMOTE(random_state=42)\n",
        "# SMOTE if needed\n",
        "Xp_bal, yp_bal = smote.fit_resample(Xp, yp)\n",
        "\n",
        "Xp_train, Xp_test, yp_train, yp_test = train_test_split(Xp_bal, yp_bal, test_size=0.2, random_state=42)\n",
        "\n",
        "panel_model = LGBMClassifier(n_estimators=200, random_state=42)\n",
        "panel_model.fit(Xp_train, yp_train)\n",
        "\n",
        "yp_pred = panel_model.predict(Xp_test)\n",
        "print(\"\\nPanel Model Accuracy:\", accuracy_score(yp_test, yp_pred))\n",
        "print(classification_report(yp_test, yp_pred))\n",
        "\n",
        "joblib.dump(panel_model, \"panel_model.pkl\")\n",
        "print(\"✅ panel_model.pkl saved\")"
      ],
      "metadata": {
        "colab": {
          "base_uri": "https://localhost:8080/"
        },
        "id": "uQBu7qwxMmGu",
        "outputId": "8d5b3a85-676d-4194-e047-f7c5bb4969a5"
      },
      "execution_count": null,
      "outputs": [
        {
          "output_type": "stream",
          "name": "stdout",
          "text": [
            "[LightGBM] [Warning] Found whitespace in feature_names, replace with underlines\n",
            "[LightGBM] [Info] Auto-choosing col-wise multi-threading, the overhead of testing was 0.000378 seconds.\n",
            "You can set `force_col_wise=true` to remove the overhead.\n",
            "[LightGBM] [Info] Total Bins 1020\n",
            "[LightGBM] [Info] Number of data points in the train set: 4070, number of used features: 4\n",
            "[LightGBM] [Info] Start training from score -1.390727\n",
            "[LightGBM] [Info] Start training from score -1.385803\n",
            "[LightGBM] [Info] Start training from score -1.389740\n",
            "[LightGBM] [Info] Start training from score -1.378950\n",
            "\n",
            "Panel Model Accuracy: 0.918467583497053\n",
            "                 precision    recall  f1-score   support\n",
            "\n",
            "     Flat Panel       0.90      0.98      0.94       259\n",
            "        Tubular       0.92      0.93      0.92       254\n",
            "       V-Shaped       0.91      0.79      0.85       258\n",
            "Vertical Column       0.94      0.98      0.96       247\n",
            "\n",
            "       accuracy                           0.92      1018\n",
            "      macro avg       0.92      0.92      0.92      1018\n",
            "   weighted avg       0.92      0.92      0.92      1018\n",
            "\n",
            "✅ panel_model.pkl saved\n"
          ]
        }
      ]
    },
    {
      "cell_type": "code",
      "source": [],
      "metadata": {
        "colab": {
          "base_uri": "https://localhost:8080/",
          "height": 772
        },
        "id": "Jk51Z1DVP0CC",
        "outputId": "72043c50-7211-4496-efeb-93c4dd028de1"
      },
      "execution_count": null,
      "outputs": [
        {
          "output_type": "stream",
          "name": "stdout",
          "text": [
            "      Algae Type  Algae Amount (kg)  Wall Size (m²)  Temperature (°C)  \\\n",
            "0    Scenedesmus          50.367274       63.879264         38.767858   \n",
            "1      Chlorella          39.269376       87.955853         18.899863   \n",
            "2    Scenedesmus          11.105276       15.077042         18.571670   \n",
            "3    Scenedesmus          31.825185       99.299040         38.463818   \n",
            "4  Haematococcus          20.034009       48.875052         22.606056   \n",
            "\n",
            "   Sunlight Hours Optimal Panel Type  \n",
            "0        9.855952            Tubular  \n",
            "1        4.464669    Vertical Column  \n",
            "2        9.207108           V-Shaped  \n",
            "3        4.006230           V-Shaped  \n",
            "4        8.198051           V-Shaped  \n"
          ]
        },
        {
          "output_type": "error",
          "ename": "KeyError",
          "evalue": "'algae_type'",
          "traceback": [
            "\u001b[0;31m---------------------------------------------------------------------------\u001b[0m",
            "\u001b[0;31mKeyError\u001b[0m                                  Traceback (most recent call last)",
            "\u001b[0;32m/usr/local/lib/python3.11/dist-packages/pandas/core/indexes/base.py\u001b[0m in \u001b[0;36mget_loc\u001b[0;34m(self, key)\u001b[0m\n\u001b[1;32m   3804\u001b[0m         \u001b[0;32mtry\u001b[0m\u001b[0;34m:\u001b[0m\u001b[0;34m\u001b[0m\u001b[0;34m\u001b[0m\u001b[0m\n\u001b[0;32m-> 3805\u001b[0;31m             \u001b[0;32mreturn\u001b[0m \u001b[0mself\u001b[0m\u001b[0;34m.\u001b[0m\u001b[0m_engine\u001b[0m\u001b[0;34m.\u001b[0m\u001b[0mget_loc\u001b[0m\u001b[0;34m(\u001b[0m\u001b[0mcasted_key\u001b[0m\u001b[0;34m)\u001b[0m\u001b[0;34m\u001b[0m\u001b[0;34m\u001b[0m\u001b[0m\n\u001b[0m\u001b[1;32m   3806\u001b[0m         \u001b[0;32mexcept\u001b[0m \u001b[0mKeyError\u001b[0m \u001b[0;32mas\u001b[0m \u001b[0merr\u001b[0m\u001b[0;34m:\u001b[0m\u001b[0;34m\u001b[0m\u001b[0;34m\u001b[0m\u001b[0m\n",
            "\u001b[0;32mindex.pyx\u001b[0m in \u001b[0;36mpandas._libs.index.IndexEngine.get_loc\u001b[0;34m()\u001b[0m\n",
            "\u001b[0;32mindex.pyx\u001b[0m in \u001b[0;36mpandas._libs.index.IndexEngine.get_loc\u001b[0;34m()\u001b[0m\n",
            "\u001b[0;32mpandas/_libs/hashtable_class_helper.pxi\u001b[0m in \u001b[0;36mpandas._libs.hashtable.PyObjectHashTable.get_item\u001b[0;34m()\u001b[0m\n",
            "\u001b[0;32mpandas/_libs/hashtable_class_helper.pxi\u001b[0m in \u001b[0;36mpandas._libs.hashtable.PyObjectHashTable.get_item\u001b[0;34m()\u001b[0m\n",
            "\u001b[0;31mKeyError\u001b[0m: 'algae_type'",
            "\nThe above exception was the direct cause of the following exception:\n",
            "\u001b[0;31mKeyError\u001b[0m                                  Traceback (most recent call last)",
            "\u001b[0;32m<ipython-input-8-5b5fdfc4b06c>\u001b[0m in \u001b[0;36m<cell line: 0>\u001b[0;34m()\u001b[0m\n\u001b[1;32m     12\u001b[0m \u001b[0;34m\u001b[0m\u001b[0m\n\u001b[1;32m     13\u001b[0m \u001b[0;31m# Encode categorical columns (replace 'algae_type' and 'panel_type' with your actual columns)\u001b[0m\u001b[0;34m\u001b[0m\u001b[0;34m\u001b[0m\u001b[0m\n\u001b[0;32m---> 14\u001b[0;31m \u001b[0mdata\u001b[0m\u001b[0;34m[\u001b[0m\u001b[0;34m'algae_type'\u001b[0m\u001b[0;34m]\u001b[0m \u001b[0;34m=\u001b[0m \u001b[0mencoder\u001b[0m\u001b[0;34m.\u001b[0m\u001b[0mfit_transform\u001b[0m\u001b[0;34m(\u001b[0m\u001b[0mdata\u001b[0m\u001b[0;34m[\u001b[0m\u001b[0;34m'algae_type'\u001b[0m\u001b[0;34m]\u001b[0m\u001b[0;34m)\u001b[0m\u001b[0;34m\u001b[0m\u001b[0;34m\u001b[0m\u001b[0m\n\u001b[0m\u001b[1;32m     15\u001b[0m \u001b[0mdata\u001b[0m\u001b[0;34m[\u001b[0m\u001b[0;34m'panel_type'\u001b[0m\u001b[0;34m]\u001b[0m \u001b[0;34m=\u001b[0m \u001b[0mencoder\u001b[0m\u001b[0;34m.\u001b[0m\u001b[0mfit_transform\u001b[0m\u001b[0;34m(\u001b[0m\u001b[0mdata\u001b[0m\u001b[0;34m[\u001b[0m\u001b[0;34m'panel_type'\u001b[0m\u001b[0;34m]\u001b[0m\u001b[0;34m)\u001b[0m\u001b[0;34m\u001b[0m\u001b[0;34m\u001b[0m\u001b[0m\n\u001b[1;32m     16\u001b[0m \u001b[0;34m\u001b[0m\u001b[0m\n",
            "\u001b[0;32m/usr/local/lib/python3.11/dist-packages/pandas/core/frame.py\u001b[0m in \u001b[0;36m__getitem__\u001b[0;34m(self, key)\u001b[0m\n\u001b[1;32m   4100\u001b[0m             \u001b[0;32mif\u001b[0m \u001b[0mself\u001b[0m\u001b[0;34m.\u001b[0m\u001b[0mcolumns\u001b[0m\u001b[0;34m.\u001b[0m\u001b[0mnlevels\u001b[0m \u001b[0;34m>\u001b[0m \u001b[0;36m1\u001b[0m\u001b[0;34m:\u001b[0m\u001b[0;34m\u001b[0m\u001b[0;34m\u001b[0m\u001b[0m\n\u001b[1;32m   4101\u001b[0m                 \u001b[0;32mreturn\u001b[0m \u001b[0mself\u001b[0m\u001b[0;34m.\u001b[0m\u001b[0m_getitem_multilevel\u001b[0m\u001b[0;34m(\u001b[0m\u001b[0mkey\u001b[0m\u001b[0;34m)\u001b[0m\u001b[0;34m\u001b[0m\u001b[0;34m\u001b[0m\u001b[0m\n\u001b[0;32m-> 4102\u001b[0;31m             \u001b[0mindexer\u001b[0m \u001b[0;34m=\u001b[0m \u001b[0mself\u001b[0m\u001b[0;34m.\u001b[0m\u001b[0mcolumns\u001b[0m\u001b[0;34m.\u001b[0m\u001b[0mget_loc\u001b[0m\u001b[0;34m(\u001b[0m\u001b[0mkey\u001b[0m\u001b[0;34m)\u001b[0m\u001b[0;34m\u001b[0m\u001b[0;34m\u001b[0m\u001b[0m\n\u001b[0m\u001b[1;32m   4103\u001b[0m             \u001b[0;32mif\u001b[0m \u001b[0mis_integer\u001b[0m\u001b[0;34m(\u001b[0m\u001b[0mindexer\u001b[0m\u001b[0;34m)\u001b[0m\u001b[0;34m:\u001b[0m\u001b[0;34m\u001b[0m\u001b[0;34m\u001b[0m\u001b[0m\n\u001b[1;32m   4104\u001b[0m                 \u001b[0mindexer\u001b[0m \u001b[0;34m=\u001b[0m \u001b[0;34m[\u001b[0m\u001b[0mindexer\u001b[0m\u001b[0;34m]\u001b[0m\u001b[0;34m\u001b[0m\u001b[0;34m\u001b[0m\u001b[0m\n",
            "\u001b[0;32m/usr/local/lib/python3.11/dist-packages/pandas/core/indexes/base.py\u001b[0m in \u001b[0;36mget_loc\u001b[0;34m(self, key)\u001b[0m\n\u001b[1;32m   3810\u001b[0m             ):\n\u001b[1;32m   3811\u001b[0m                 \u001b[0;32mraise\u001b[0m \u001b[0mInvalidIndexError\u001b[0m\u001b[0;34m(\u001b[0m\u001b[0mkey\u001b[0m\u001b[0;34m)\u001b[0m\u001b[0;34m\u001b[0m\u001b[0;34m\u001b[0m\u001b[0m\n\u001b[0;32m-> 3812\u001b[0;31m             \u001b[0;32mraise\u001b[0m \u001b[0mKeyError\u001b[0m\u001b[0;34m(\u001b[0m\u001b[0mkey\u001b[0m\u001b[0;34m)\u001b[0m \u001b[0;32mfrom\u001b[0m \u001b[0merr\u001b[0m\u001b[0;34m\u001b[0m\u001b[0;34m\u001b[0m\u001b[0m\n\u001b[0m\u001b[1;32m   3813\u001b[0m         \u001b[0;32mexcept\u001b[0m \u001b[0mTypeError\u001b[0m\u001b[0;34m:\u001b[0m\u001b[0;34m\u001b[0m\u001b[0;34m\u001b[0m\u001b[0m\n\u001b[1;32m   3814\u001b[0m             \u001b[0;31m# If we have a listlike key, _check_indexing_error will raise\u001b[0m\u001b[0;34m\u001b[0m\u001b[0;34m\u001b[0m\u001b[0m\n",
            "\u001b[0;31mKeyError\u001b[0m: 'algae_type'"
          ]
        }
      ]
    },
    {
      "cell_type": "code",
      "source": [
        "import pandas as pd\n",
        "\n",
        "# Load the dataset\n",
        "data = pd.read_csv('enhanced_algae_panel_dataset')\n",
        "\n",
        "# Display the first few rows and column names\n",
        "print(data.head())\n",
        "print(data.columns)\n",
        "from sklearn.preprocessing import LabelEncoder\n",
        "\n",
        "# Initialize LabelEncoder\n",
        "encoder = LabelEncoder()\n",
        "\n",
        "# Replace 'algae_type' with the correct column name\n",
        "data['correct_column_name_for_algae'] = encoder.fit_transform(data['correct_column_name_for_algae'])\n",
        "data['correct_column_name_for_panel'] = encoder.fit_transform(data['correct_column_name_for_panel'])\n",
        "\n",
        "# Confirm data is now numeric\n",
        "print(data.head())\n"
      ],
      "metadata": {
        "colab": {
          "base_uri": "https://localhost:8080/",
          "height": 824
        },
        "id": "VZY7KkqJQGUU",
        "outputId": "1d914787-6938-436d-e2ae-616c49909e3b"
      },
      "execution_count": null,
      "outputs": [
        {
          "output_type": "stream",
          "name": "stdout",
          "text": [
            "      Algae Type  Algae Amount (kg)  Wall Size (m²)  Temperature (°C)  \\\n",
            "0    Scenedesmus          50.367274       63.879264         38.767858   \n",
            "1      Chlorella          39.269376       87.955853         18.899863   \n",
            "2    Scenedesmus          11.105276       15.077042         18.571670   \n",
            "3    Scenedesmus          31.825185       99.299040         38.463818   \n",
            "4  Haematococcus          20.034009       48.875052         22.606056   \n",
            "\n",
            "   Sunlight Hours Optimal Panel Type  \n",
            "0        9.855952            Tubular  \n",
            "1        4.464669    Vertical Column  \n",
            "2        9.207108           V-Shaped  \n",
            "3        4.006230           V-Shaped  \n",
            "4        8.198051           V-Shaped  \n",
            "Index(['Algae Type', 'Algae Amount (kg)', 'Wall Size (m²)', 'Temperature (°C)',\n",
            "       'Sunlight Hours', 'Optimal Panel Type'],\n",
            "      dtype='object')\n"
          ]
        },
        {
          "output_type": "error",
          "ename": "KeyError",
          "evalue": "'correct_column_name_for_algae'",
          "traceback": [
            "\u001b[0;31m---------------------------------------------------------------------------\u001b[0m",
            "\u001b[0;31mKeyError\u001b[0m                                  Traceback (most recent call last)",
            "\u001b[0;32m/usr/local/lib/python3.11/dist-packages/pandas/core/indexes/base.py\u001b[0m in \u001b[0;36mget_loc\u001b[0;34m(self, key)\u001b[0m\n\u001b[1;32m   3804\u001b[0m         \u001b[0;32mtry\u001b[0m\u001b[0;34m:\u001b[0m\u001b[0;34m\u001b[0m\u001b[0;34m\u001b[0m\u001b[0m\n\u001b[0;32m-> 3805\u001b[0;31m             \u001b[0;32mreturn\u001b[0m \u001b[0mself\u001b[0m\u001b[0;34m.\u001b[0m\u001b[0m_engine\u001b[0m\u001b[0;34m.\u001b[0m\u001b[0mget_loc\u001b[0m\u001b[0;34m(\u001b[0m\u001b[0mcasted_key\u001b[0m\u001b[0;34m)\u001b[0m\u001b[0;34m\u001b[0m\u001b[0;34m\u001b[0m\u001b[0m\n\u001b[0m\u001b[1;32m   3806\u001b[0m         \u001b[0;32mexcept\u001b[0m \u001b[0mKeyError\u001b[0m \u001b[0;32mas\u001b[0m \u001b[0merr\u001b[0m\u001b[0;34m:\u001b[0m\u001b[0;34m\u001b[0m\u001b[0;34m\u001b[0m\u001b[0m\n",
            "\u001b[0;32mindex.pyx\u001b[0m in \u001b[0;36mpandas._libs.index.IndexEngine.get_loc\u001b[0;34m()\u001b[0m\n",
            "\u001b[0;32mindex.pyx\u001b[0m in \u001b[0;36mpandas._libs.index.IndexEngine.get_loc\u001b[0;34m()\u001b[0m\n",
            "\u001b[0;32mpandas/_libs/hashtable_class_helper.pxi\u001b[0m in \u001b[0;36mpandas._libs.hashtable.PyObjectHashTable.get_item\u001b[0;34m()\u001b[0m\n",
            "\u001b[0;32mpandas/_libs/hashtable_class_helper.pxi\u001b[0m in \u001b[0;36mpandas._libs.hashtable.PyObjectHashTable.get_item\u001b[0;34m()\u001b[0m\n",
            "\u001b[0;31mKeyError\u001b[0m: 'correct_column_name_for_algae'",
            "\nThe above exception was the direct cause of the following exception:\n",
            "\u001b[0;31mKeyError\u001b[0m                                  Traceback (most recent call last)",
            "\u001b[0;32m<ipython-input-11-a55283a8f831>\u001b[0m in \u001b[0;36m<cell line: 0>\u001b[0;34m()\u001b[0m\n\u001b[1;32m     13\u001b[0m \u001b[0;34m\u001b[0m\u001b[0m\n\u001b[1;32m     14\u001b[0m \u001b[0;31m# Replace 'algae_type' with the correct column name\u001b[0m\u001b[0;34m\u001b[0m\u001b[0;34m\u001b[0m\u001b[0m\n\u001b[0;32m---> 15\u001b[0;31m \u001b[0mdata\u001b[0m\u001b[0;34m[\u001b[0m\u001b[0;34m'correct_column_name_for_algae'\u001b[0m\u001b[0;34m]\u001b[0m \u001b[0;34m=\u001b[0m \u001b[0mencoder\u001b[0m\u001b[0;34m.\u001b[0m\u001b[0mfit_transform\u001b[0m\u001b[0;34m(\u001b[0m\u001b[0mdata\u001b[0m\u001b[0;34m[\u001b[0m\u001b[0;34m'correct_column_name_for_algae'\u001b[0m\u001b[0;34m]\u001b[0m\u001b[0;34m)\u001b[0m\u001b[0;34m\u001b[0m\u001b[0;34m\u001b[0m\u001b[0m\n\u001b[0m\u001b[1;32m     16\u001b[0m \u001b[0mdata\u001b[0m\u001b[0;34m[\u001b[0m\u001b[0;34m'correct_column_name_for_panel'\u001b[0m\u001b[0;34m]\u001b[0m \u001b[0;34m=\u001b[0m \u001b[0mencoder\u001b[0m\u001b[0;34m.\u001b[0m\u001b[0mfit_transform\u001b[0m\u001b[0;34m(\u001b[0m\u001b[0mdata\u001b[0m\u001b[0;34m[\u001b[0m\u001b[0;34m'correct_column_name_for_panel'\u001b[0m\u001b[0;34m]\u001b[0m\u001b[0;34m)\u001b[0m\u001b[0;34m\u001b[0m\u001b[0;34m\u001b[0m\u001b[0m\n\u001b[1;32m     17\u001b[0m \u001b[0;34m\u001b[0m\u001b[0m\n",
            "\u001b[0;32m/usr/local/lib/python3.11/dist-packages/pandas/core/frame.py\u001b[0m in \u001b[0;36m__getitem__\u001b[0;34m(self, key)\u001b[0m\n\u001b[1;32m   4100\u001b[0m             \u001b[0;32mif\u001b[0m \u001b[0mself\u001b[0m\u001b[0;34m.\u001b[0m\u001b[0mcolumns\u001b[0m\u001b[0;34m.\u001b[0m\u001b[0mnlevels\u001b[0m \u001b[0;34m>\u001b[0m \u001b[0;36m1\u001b[0m\u001b[0;34m:\u001b[0m\u001b[0;34m\u001b[0m\u001b[0;34m\u001b[0m\u001b[0m\n\u001b[1;32m   4101\u001b[0m                 \u001b[0;32mreturn\u001b[0m \u001b[0mself\u001b[0m\u001b[0;34m.\u001b[0m\u001b[0m_getitem_multilevel\u001b[0m\u001b[0;34m(\u001b[0m\u001b[0mkey\u001b[0m\u001b[0;34m)\u001b[0m\u001b[0;34m\u001b[0m\u001b[0;34m\u001b[0m\u001b[0m\n\u001b[0;32m-> 4102\u001b[0;31m             \u001b[0mindexer\u001b[0m \u001b[0;34m=\u001b[0m \u001b[0mself\u001b[0m\u001b[0;34m.\u001b[0m\u001b[0mcolumns\u001b[0m\u001b[0;34m.\u001b[0m\u001b[0mget_loc\u001b[0m\u001b[0;34m(\u001b[0m\u001b[0mkey\u001b[0m\u001b[0;34m)\u001b[0m\u001b[0;34m\u001b[0m\u001b[0;34m\u001b[0m\u001b[0m\n\u001b[0m\u001b[1;32m   4103\u001b[0m             \u001b[0;32mif\u001b[0m \u001b[0mis_integer\u001b[0m\u001b[0;34m(\u001b[0m\u001b[0mindexer\u001b[0m\u001b[0;34m)\u001b[0m\u001b[0;34m:\u001b[0m\u001b[0;34m\u001b[0m\u001b[0;34m\u001b[0m\u001b[0m\n\u001b[1;32m   4104\u001b[0m                 \u001b[0mindexer\u001b[0m \u001b[0;34m=\u001b[0m \u001b[0;34m[\u001b[0m\u001b[0mindexer\u001b[0m\u001b[0;34m]\u001b[0m\u001b[0;34m\u001b[0m\u001b[0;34m\u001b[0m\u001b[0m\n",
            "\u001b[0;32m/usr/local/lib/python3.11/dist-packages/pandas/core/indexes/base.py\u001b[0m in \u001b[0;36mget_loc\u001b[0;34m(self, key)\u001b[0m\n\u001b[1;32m   3810\u001b[0m             ):\n\u001b[1;32m   3811\u001b[0m                 \u001b[0;32mraise\u001b[0m \u001b[0mInvalidIndexError\u001b[0m\u001b[0;34m(\u001b[0m\u001b[0mkey\u001b[0m\u001b[0;34m)\u001b[0m\u001b[0;34m\u001b[0m\u001b[0;34m\u001b[0m\u001b[0m\n\u001b[0;32m-> 3812\u001b[0;31m             \u001b[0;32mraise\u001b[0m \u001b[0mKeyError\u001b[0m\u001b[0;34m(\u001b[0m\u001b[0mkey\u001b[0m\u001b[0;34m)\u001b[0m \u001b[0;32mfrom\u001b[0m \u001b[0merr\u001b[0m\u001b[0;34m\u001b[0m\u001b[0;34m\u001b[0m\u001b[0m\n\u001b[0m\u001b[1;32m   3813\u001b[0m         \u001b[0;32mexcept\u001b[0m \u001b[0mTypeError\u001b[0m\u001b[0;34m:\u001b[0m\u001b[0;34m\u001b[0m\u001b[0;34m\u001b[0m\u001b[0m\n\u001b[1;32m   3814\u001b[0m             \u001b[0;31m# If we have a listlike key, _check_indexing_error will raise\u001b[0m\u001b[0;34m\u001b[0m\u001b[0;34m\u001b[0m\u001b[0m\n",
            "\u001b[0;31mKeyError\u001b[0m: 'correct_column_name_for_algae'"
          ]
        }
      ]
    }
  ]
}